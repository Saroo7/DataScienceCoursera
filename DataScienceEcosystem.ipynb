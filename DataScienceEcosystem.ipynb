{
 "cells": [
  {
   "cell_type": "markdown",
   "id": "6b28df2c-50e8-464f-ad0e-796e71797856",
   "metadata": {},
   "source": [
    "# Data Science Tools and Ecosystem"
   ]
  },
  {
   "cell_type": "markdown",
   "id": "be9c43b0-8f11-43ec-a034-fc99388d46af",
   "metadata": {},
   "source": [
    "In this notebook, Data Science Tools and Ecosystem are summarized."
   ]
  },
  {
   "cell_type": "markdown",
   "id": "ed8618bb-17d1-453a-ae11-e738abd31390",
   "metadata": {},
   "source": [
    "**Objectives:**\n",
    "- List popular languages for Data Science.\n",
    "- List some commonly used libraries by Data Scientists.\n",
    "- A table of three development environment open source tools used in data science.\n",
    "- Introducing arithmetic expression.\n",
    "- Create a code cell to multiply and add numbers.\n",
    "- Create a code cell to convert minutes to hours.\n",
    "- Inserting a cell.\n",
    "- To indicate Author's name."
   ]
  },
  {
   "cell_type": "markdown",
   "id": "45400cc8-e458-4930-916e-dd080203d9f1",
   "metadata": {},
   "source": [
    "Some of the popular languages that Data Scientists use are:\n",
    "1. Python\n",
    "2. R Language\n",
    "3. SQL\n",
    "4. Scala\n",
    "5. Java\n",
    "6. C++\n",
    "7. Julia"
   ]
  },
  {
   "cell_type": "markdown",
   "id": "ab59cf64-ee73-42e1-8c62-5093fbc90976",
   "metadata": {},
   "source": [
    "Some of the commonly used libraries used by Data Scientists include:\n",
    "1. Pandas\n",
    "2. NumPy\n",
    "3. Mathplotlib\n",
    "4. Seaborn\n",
    "5. Scikit-learn\n",
    "6. TensorFlow\n",
    "7. PyTorch\n",
    "8. Stringr\n",
    "9. Dplyr\n",
    "10. ggplot"
   ]
  },
  {
   "cell_type": "markdown",
   "id": "8a844bc9-1516-4958-817d-17b45de24fa5",
   "metadata": {},
   "source": [
    "| Data Science Tools |\n",
    "|------|\n",
    "| Jupyter Notebook |\n",
    "| RStudio |\n",
    "| Spyder |"
   ]
  },
  {
   "cell_type": "markdown",
   "id": "ab2e617e-731f-4676-87f5-d119468b37b7",
   "metadata": {},
   "source": [
    "### Below are a few examples of evaluating arithmetic expressions in Python\n",
    "- 2 + 3 = 5\n",
    "- 20 / 2 = 10\n",
    "- (2/2)*2 = 2"
   ]
  },
  {
   "cell_type": "code",
   "execution_count": 1,
   "id": "f8833d38-303e-4058-a42c-051d75f64841",
   "metadata": {
    "tags": []
   },
   "outputs": [
    {
     "data": {
      "text/plain": [
       "17"
      ]
     },
     "execution_count": 1,
     "metadata": {},
     "output_type": "execute_result"
    }
   ],
   "source": [
    "# This a simple arithmetic expression to mutiply then add integers\n",
    "(3*4)+5"
   ]
  },
  {
   "cell_type": "code",
   "execution_count": 2,
   "id": "9ec93bcd-7cdb-451f-80f8-97a7c4f74b8e",
   "metadata": {
    "tags": []
   },
   "outputs": [
    {
     "data": {
      "text/plain": [
       "3.3333333333333335"
      ]
     },
     "execution_count": 2,
     "metadata": {},
     "output_type": "execute_result"
    }
   ],
   "source": [
    "# This will convert 200 minutes to hours by diving by 60\n",
    "\n",
    "200/60"
   ]
  },
  {
   "cell_type": "markdown",
   "id": "b369bcdb-4b50-415d-b423-2a02e745d23e",
   "metadata": {},
   "source": [
    "## Author\n",
    "Saro P"
   ]
  }
 ],
 "metadata": {
  "kernelspec": {
   "display_name": "Python",
   "language": "python",
   "name": "conda-env-python-py"
  },
  "language_info": {
   "codemirror_mode": {
    "name": "ipython",
    "version": 3
   },
   "file_extension": ".py",
   "mimetype": "text/x-python",
   "name": "python",
   "nbconvert_exporter": "python",
   "pygments_lexer": "ipython3",
   "version": "3.7.12"
  }
 },
 "nbformat": 4,
 "nbformat_minor": 5
}
